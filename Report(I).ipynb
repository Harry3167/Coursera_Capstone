{
 "cells": [
  {
   "cell_type": "markdown",
   "metadata": {},
   "source": [
    "## I. INTRODUCTION "
   ]
  },
  {
   "cell_type": "markdown",
   "metadata": {
    "collapsed": true
   },
   "source": [
    "In this project we will try to find an optimal selection of venues recommendation for travellers visiting in Theaters in New York City. Specifically, this report will be targeted to tour packages companies and travel websites that are looking to recommend venues around in New york that will interest travellers.\n",
    "\n",
    "Since there are lots of venues in New York we will try to detect locations that are most common and within 100meters of the theaters. We are also particularly interested in areas close to city center as possible.\n",
    "\n",
    "There are a lot of websites where travelers can check and retrieve recommendations of places to stay or visit. However, most of these websites provides recommendation simply based on usual tourist attractions or key residential areas that are mostly expensive or already known for travelers based on certain keywords like \"Hotel\", or \"Backpackers\" etc. The intention on this project is to collect and provide a data driven recommendation that can supplement the recommendation with statistical data. This will also be utilizing data retrieved from New Yorke open data sources and FourSquare API venue recommendations.\n",
    "\n",
    "The sample recommender in this notebook will provide the following use case scenario:\n",
    "\n",
    "A person planning to visit New York as a Tourist or an a Tour Packaging company looking for an optimal list of venues in New York to recommend to clients.\n",
    "The user wants to receive venue recommendation where he can stay or eat in a restaurant with close proximity to places of interest in this case Theaters.\n",
    "The recommendation should not only present the most viable option, but also present a comparison table of all possible town venues.\n",
    "For this demonstration, this notebook will make use of the following data:\n",
    "\n",
    "New York Theaters data.\n",
    "Popular venues in the vicinity.\n",
    "Note: While this demo makes use of Four Square Venue Category, Other possible categories can also be used for the same implementation such as checking categories like:\n",
    "\n",
    "Outdoors and Recreation\n",
    "Nightlife\n",
    "Nearby Schools, etc.\n",
    "I will limit the scope of this search as FourSquare API only allows 50 free venue query limit per day when using a free user access."
   ]
  },
  {
   "cell_type": "markdown",
   "metadata": {},
   "source": [
    "## II. DATA"
   ]
  },
  {
   "cell_type": "markdown",
   "metadata": {},
   "source": [
    "Based on definition of our problem, factors that will influence our decission are:\n",
    "\n",
    "distance of theaters from venues Popularity(Commoness) of venue on FourSquare\n",
    "\n",
    "Following data sources will be needed to extract/generate the required information:\n",
    "\n",
    "Venue categories around every theater will be obtained using Foursquare API (FourSquare website: www.foursquare.com)<br>\n",
    "Coordinate of New York will be obtained using Python geopy.geocoders, Nominatim library<br>\n",
    "Cordinates and list of theaters in New York will be obtained from New York City Open Data portal https://data.cityofnewyork.us\n",
    "\n",
    "I will be using the FourSquare API to explore locations in New York City. The Foursquare explore function will be used to get the most common venue categories around each neighborhood, and then use this feature to group the neighborhoods into clusters. The following information are retrieved on the first query:\n",
    "\n",
    "Venue ID\n",
    "Venue Name\n",
    "Coordinates : Latitude and Longitude\n",
    "Category Name\n",
    "Another venue query will be performed to retrieve venue ratings for each location. Note that rating information is a paid service from FourSquare and we are limited to only 50 queries per day. With this constraint, we limit the category analysis with only one type for this demo."
   ]
  }
 ],
 "metadata": {
  "kernelspec": {
   "display_name": "Python 3.5",
   "language": "python",
   "name": "python3"
  },
  "language_info": {
   "codemirror_mode": {
    "name": "ipython",
    "version": 3
   },
   "file_extension": ".py",
   "mimetype": "text/x-python",
   "name": "python",
   "nbconvert_exporter": "python",
   "pygments_lexer": "ipython3",
   "version": "3.5.5"
  }
 },
 "nbformat": 4,
 "nbformat_minor": 1
}
